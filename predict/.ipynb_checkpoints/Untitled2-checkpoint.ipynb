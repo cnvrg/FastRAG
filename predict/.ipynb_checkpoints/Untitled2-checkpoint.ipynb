{
 "cells": [
  {
   "cell_type": "code",
   "execution_count": 2,
   "id": "ab1f7cbd-ef56-4e22-ad64-594d7ecadde4",
   "metadata": {},
   "outputs": [
    {
     "name": "stderr",
     "output_type": "stream",
     "text": [
      "[08/21/2023 05:29:42] {base.py:265} INFO - GET http://10.42.6.227:9200/ [status:200 request:0.001s]\n",
      "[08/21/2023 05:29:42] {base.py:265} INFO - PUT http://10.42.6.227:9200/ht8 [status:200 request:0.049s]\n",
      "[08/21/2023 05:29:42] {base.py:265} INFO - GET http://10.42.6.227:9200/ht8 [status:200 request:0.001s]\n",
      "[08/21/2023 05:29:42] {base.py:265} INFO - PUT http://10.42.6.227:9200/ht8/_mapping [status:200 request:0.003s]\n",
      "[08/21/2023 05:29:42] {base.py:265} INFO - HEAD http://10.42.6.227:9200/label [status:200 request:0.001s]\n",
      "[08/21/2023 05:29:42] {utils.py:130} INFO - Using devices: CPU - Number of GPUs: 0\n",
      "Downloading (…)lve/main/config.json: 100% 659/659 [00:00<00:00, 5.69MB/s]\n",
      "Downloading pytorch_model.bin: 100% 438M/438M [00:15<00:00, 27.5MB/s] \n",
      "/usr/local/lib/python3.10/site-packages/torch/_utils.py:776: UserWarning: TypedStorage is deprecated. It will be removed in the future and UntypedStorage will be the only storage class. This should only matter to you if you are using storages directly.  To access UntypedStorage directly, use tensor.untyped_storage() instead of tensor.storage()\n",
      "  return self.fget.__get__(instance, owner)()\n",
      "Downloading (…)okenizer_config.json: 100% 348/348 [00:00<00:00, 2.61MB/s]\n",
      "Downloading (…)solve/main/vocab.txt: 100% 232k/232k [00:00<00:00, 17.3MB/s]\n",
      "Downloading (…)/main/tokenizer.json: 100% 711k/711k [00:00<00:00, 52.3MB/s]\n",
      "Downloading (…)cial_tokens_map.json: 100% 125/125 [00:00<00:00, 1.21MB/s]"
     ]
    },
    {
     "name": "stdout",
     "output_type": "stream",
     "text": [
      "[Aug 21, 05:30:39] Loading segmented_maxsim_cpp extension (set COLBERT_LOAD_TORCH_EXTENSION_VERBOSE=True for more info)...\n"
     ]
    },
    {
     "name": "stderr",
     "output_type": "stream",
     "text": [
      "\n",
      "/usr/local/lib/python3.10/site-packages/torch/cuda/amp/grad_scaler.py:120: UserWarning: torch.cuda.amp.GradScaler is enabled, but CUDA is not available.  Disabling.\n",
      "  warnings.warn(\"torch.cuda.amp.GradScaler is enabled, but CUDA is not available.  Disabling.\")\n",
      "[08/21/2023 05:30:56] {prompt_node.py:451} WARNING - PromptNode has been potentially initialized with a language model not fine-tuned on instruction following tasks. Many of the default prompts and PromptTemplates will likely not work as intended. Use custom prompts and PromptTemplates specific to the gpt-3.5-turbo model\n"
     ]
    }
   ],
   "source": [
    "from predict import query"
   ]
  },
  {
   "cell_type": "code",
   "execution_count": 5,
   "id": "346788bc-615f-4f2e-b084-859926cdd4e4",
   "metadata": {},
   "outputs": [
    {
     "name": "stderr",
     "output_type": "stream",
     "text": [
      "[08/21/2023 05:32:10] {base.py:265} INFO - POST http://10.42.6.227:9200/ht8/_search [status:200 request:0.003s]\n"
     ]
    },
    {
     "name": "stdout",
     "output_type": "stream",
     "text": [
      "Below is an instruction that describes a task paired with an input, which provides further context. Write a response that appropriately completes the request.\n",
      "\n",
      "### Instruction:\n",
      "You are a doctor. Synthesize a comprehensive answer strictly from the following Input and the question: I have been experiencing pain in my legs and back, what could be the reason\n",
      "\n",
      "### Input:\n",
      "paragraphs: \n",
      "\n",
      "### Response:\n"
     ]
    },
    {
     "name": "stderr",
     "output_type": "stream",
     "text": [
      "[08/21/2023 05:32:12] {openai_utils.py:180} WARNING - 1 out of the 1 completions have been truncated before reaching a natural stopping point. Increase the max_tokens parameter to allow for longer completions.\n"
     ]
    },
    {
     "data": {
      "text/plain": [
       "['There are several potential reasons for experiencing pain in both the legs and back. One possibility is muscle strain or overuse, which can be caused by activities such as lifting heavy objects, prolonged standing or sitting, or engaging in strenuous exercise without proper warm-up or stretching. Another potential cause could be poor posture, which can put excessive strain on the muscles and ligaments in the legs and back.\\n\\nAdditionally, pain in the legs and back could be a result of an underlying medical condition. Conditions such as']"
      ]
     },
     "execution_count": 5,
     "metadata": {},
     "output_type": "execute_result"
    }
   ],
   "source": [
    "query({'query':'I have been experiencing pain in my legs and back, what could be the reason'})"
   ]
  },
  {
   "cell_type": "code",
   "execution_count": null,
   "id": "be15258b-90b6-4435-88fe-c45f24cb3cb4",
   "metadata": {},
   "outputs": [],
   "source": []
  }
 ],
 "metadata": {
  "kernelspec": {
   "display_name": "Python 3 (ipykernel)",
   "language": "python",
   "name": "python3"
  },
  "language_info": {
   "codemirror_mode": {
    "name": "ipython",
    "version": 3
   },
   "file_extension": ".py",
   "mimetype": "text/x-python",
   "name": "python",
   "nbconvert_exporter": "python",
   "pygments_lexer": "ipython3",
   "version": "3.10.11"
  }
 },
 "nbformat": 4,
 "nbformat_minor": 5
}
